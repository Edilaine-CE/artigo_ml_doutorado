{
 "cells": [
  {
   "cell_type": "markdown",
   "metadata": {},
   "source": [
    "# Importando as bibliotecas"
   ]
  },
  {
   "cell_type": "code",
   "execution_count": 34,
   "metadata": {},
   "outputs": [],
   "source": [
    "from sklearn.neighbors import KNeighborsClassifier\n",
    "from sklearn.model_selection import GridSearchCV\n",
    "from sklearn import metrics\n",
    "from sklearn.metrics import confusion_matrix\n",
    "import pandas as pd\n",
    "import numpy as np\n",
    "import matplotlib.pyplot as plt\n",
    "from pylab import plot, show, legend\n",
    "from collections import Counter\n",
    "import seaborn as sn\n",
    "import os\n",
    "import sys\n",
    "sys.path.insert(0, os.path.abspath('../Util'))\n",
    "from dados import ProcessarDados\n",
    "#from sklearn.metrics import plot_confusion_matrix"
   ]
  },
  {
   "cell_type": "code",
   "execution_count": 44,
   "metadata": {},
   "outputs": [],
   "source": [
    "# Dataset"
   ]
  },
  {
   "cell_type": "code",
   "execution_count": 3,
   "metadata": {},
   "outputs": [],
   "source": [
    "procData = ProcessarDados(\"../dataset/norm_bin_10_FEATURES_M17_CM6b_TH199.csv\")"
   ]
  },
  {
   "cell_type": "code",
   "execution_count": 46,
   "metadata": {},
   "outputs": [],
   "source": [
    "# Funções"
   ]
  },
  {
   "cell_type": "code",
   "execution_count": 50,
   "metadata": {},
   "outputs": [],
   "source": [
    "# funcção que treina e testa o modelo armazenando as métricas\n",
    "# retorna um dicionário cotendo os valores das métricas de cada rodada\n",
    "def treinamento_teste(epocas = 10, k_folds = 5, exibir_matriz_confusao=False, exibir_metricas=False):\n",
    "    \n",
    "    #array para armazenar as das métricas de cada rodada\n",
    "    resultados_accuracy = []\n",
    "    resultados_precision = []\n",
    "    resultados_recall = []\n",
    "    resultados_specificity = [] # taxa de verdadeiros negativos ou especificidade\n",
    "    resultados_f2 = []\n",
    "    resultados_parametros = []\n",
    "    resultados_matriz = []\n",
    "\n",
    "    \n",
    "    #dicionário das métricas\n",
    "    resultados_gerais = {}\n",
    "\n",
    "    for i in range(epocas):\n",
    "        # divisão os dados \n",
    "        seed = i\n",
    "        X_train, X_test, y_train, y_test = procData.holdout(0.2, seed)\n",
    "        #print(Counter(y_test))\n",
    "\n",
    "        # realizando o grid search para encontrar a melhor K-Vizinhos e pesos, \n",
    "        # considerando a acurácia (taxa de acerto)\n",
    "        # aqui o método GridSearchCV é configurado para subdividir os dados de treino em k_folds\n",
    "        clf = KNeighborsClassifier()\n",
    "        grid_knn = GridSearchCV(clf, param_grid, cv=k_folds, scoring='accuracy', verbose=0)\n",
    "        grid_knn.fit(X_train, y_train)\n",
    "        \n",
    "        \n",
    "        ####CV_RESULTS  \n",
    "        # plot results\n",
    "        means = grid_knn.cv_results_['mean_test_score']\n",
    "        scores = np.array(means).reshape(len(pesos), len(n_neighbors))\n",
    "        \n",
    "        for i, value in enumerate(pesos):\n",
    "            plt.plot(n_neighbors, scores[i], label='Distância: ' + str(value))\n",
    "        plt.legend()\n",
    "        plt.xlabel('N_vizinhos')\n",
    "        plt.ylabel('Acurácia')\n",
    "\n",
    "        \n",
    "        # Treinando do modelo com os melhores parametros encontrados\n",
    "        grid_knn.best_params_\n",
    "        Kvizinhos_best = int(grid_knn.best_params_['n_neighbors']) \n",
    "        p_best = grid_knn.best_estimator_.p\n",
    "        KNN = KNeighborsClassifier(n_neighbors=Kvizinhos_best, p=p_best, metric='minkowski')\n",
    "        #KNN = KNeighborsClassifier(n_neighbors=Kvizinhos_best, metric='minkowski')\n",
    "        KNN.fit(X_train, y_train)\n",
    "\n",
    "        #testando o modelo\n",
    "        y_pred = KNN.predict(X_test)\n",
    "        cm  = confusion_matrix(y_test, y_pred)\n",
    "        if exibir_matriz_confusao:\n",
    "            print(cm)\n",
    "\n",
    "        # calculado as metricas\n",
    "        accuracy = metrics.accuracy_score(y_test, y_pred)\n",
    "        precision = metrics.precision_score(y_test, y_pred)\n",
    "        recall = metrics.recall_score(y_test, y_pred)\n",
    "        # f2-score\n",
    "        # Fbeta = ((1 + beta^2) * Precision * Recall) / (beta^2 * Precision + Recall)\n",
    "        beta = 0.5\n",
    "        f2_score = (1 + beta**2) * (precision * recall) / (beta**2 * precision + recall)\n",
    "        tn, fp, fn, tp = cm.ravel()\n",
    "        specificity = tn / (tn+fp)\n",
    "\n",
    "        # armazenando as métricas\n",
    "        resultados_accuracy.append(accuracy)\n",
    "        resultados_precision.append(precision)\n",
    "        resultados_recall.append(recall)\n",
    "        resultados_specificity.append(specificity)\n",
    "        resultados_f2.append(f2_score)\n",
    "\n",
    "        best_parametros = {'n_neighbors': Kvizinhos_best, 'p': p_best};\n",
    "        #best_parametros = {'n_neighbors': Kvizinhos_best}\n",
    "        resultados_parametros.append(best_parametros)\n",
    "\n",
    "\n",
    "\n",
    "        if exibir_metricas:\n",
    "            print(\"Rodada:\",i)\n",
    "            print(\"Parâmetros:\",best_parametros)\n",
    "            print(\"Accuracy:\",accuracy)\n",
    "            print(\"Precision:\",precision)\n",
    "            print(\"Recall:\",recall)\n",
    "            print(\"Specificity:\",specificity)\n",
    "            print(\"fb-Score:\",f2_score)\n",
    "            print(\"\\n\")\n",
    "\n",
    "            \n",
    "    resultados_gerais['accuracy'] = resultados_accuracy\n",
    "    resultados_gerais['precision'] = resultados_precision\n",
    "    resultados_gerais['recall'] = resultados_recall\n",
    "    resultados_gerais['specificity'] = resultados_specificity\n",
    "    resultados_gerais['f2'] = resultados_f2\n",
    "    resultados_gerais['params'] = resultados_parametros\n",
    "    \n",
    "    return resultados_gerais"
   ]
  },
  {
   "cell_type": "code",
   "execution_count": 51,
   "metadata": {},
   "outputs": [],
   "source": [
    "def tabelaMetricas(nome_modelo, dict_metricas, rodadas=False, salvarResultados=True):\n",
    "        \n",
    "    print (\"============================================== \"+nome_modelo+\" =================================================\")\n",
    "    print (\"=================================== RESULTADOS DAS MÉTRICAS DO MODELO ==============================\")\n",
    "    \n",
    "    if(rodadas==False):\n",
    "        print (\"\\t Accuracy \\t|\\t Precision \\t|\\t Recall \\t|\\tSpecificity \\t|\\t fb-Score\")\n",
    "        print (\"      %.4f +- %.4f\" % (np.mean(dict_metricas['accuracy'], axis=0), np.std(dict_metricas['accuracy'], axis=0)),end=' ')\n",
    "        print (\"      %.4f +- %.4f\" % (np.mean(dict_metricas['precision'], axis=0), np.std(dict_metricas['precision'], axis=0)),end='  ')\n",
    "        print (\"      %.4f +- %.4f\" % (np.mean(dict_metricas['recall'], axis=0), np.std(dict_metricas['recall'], axis=0)),end=' ')\n",
    "        print (\"      %.4f +- %.4f\" % (np.mean(dict_metricas['specificity'], axis=0), np.std(dict_metricas['specificity'], axis=0)),end='   ')\n",
    "        print (\"      %.4f +- %.4f\" % (np.mean(dict_metricas['f2'], axis=0), np.std(dict_metricas['f2'], axis=0)))\n",
    "        print (\"====================================================================================================\")\n",
    "        \n",
    "    if(salvarResultados):\n",
    "        # save to npy file\n",
    "        np.save('../resultados/resultados_'+nome_modelo+'.npy', dict_metricas)"
   ]
  },
  {
   "cell_type": "markdown",
   "metadata": {},
   "source": [
    "# Definindo os parâmetros"
   ]
  },
  {
   "cell_type": "code",
   "execution_count": 52,
   "metadata": {},
   "outputs": [],
   "source": [
    "#K-Vizinhos\n",
    "n_neighbors = np.arange(1,25)\n",
    "#'uniforme': Todos os pontos em cada vizinho têm o mesmo peso.\n",
    "#'distância': Inverso de sua distância, os vizinhos mais próximos de um ponto de consulta terão uma influência maior do que os vizinhos mais distantes.\n",
    "pesos = [1,2]\n",
    "param_grid = {'n_neighbors': n_neighbors, 'p': pesos}\n",
    "#param_grid = {'n_neighbors': n_neighbors}\n",
    "epocas = 1\n",
    "k_folds = 5\n",
    "exibir_matriz_confusao = True\n",
    "exibir_metricas = True"
   ]
  },
  {
   "cell_type": "markdown",
   "metadata": {},
   "source": [
    "# Treinando e obtendo as métricas do modelo"
   ]
  },
  {
   "cell_type": "code",
   "execution_count": 53,
   "metadata": {},
   "outputs": [
    {
     "name": "stdout",
     "output_type": "stream",
     "text": [
      "[[22  6]\n",
      " [ 7 85]]\n",
      "Rodada: 1\n",
      "Parâmetros: {'n_neighbors': 1, 'p': 2}\n",
      "Accuracy: 0.8916666666666667\n",
      "Precision: 0.9340659340659341\n",
      "Recall: 0.9239130434782609\n",
      "Specificity: 0.7857142857142857\n",
      "fb-Score: 0.9320175438596493\n",
      "\n",
      "\n",
      "============================================== KNN =================================================\n",
      "=================================== RESULTADOS DAS MÉTRICAS DO MODELO ==============================\n",
      "\t Accuracy \t|\t Precision \t|\t Recall \t|\tSpecificity \t|\t fb-Score\n",
      "      0.8917 +- 0.0000       0.9341 +- 0.0000        0.9239 +- 0.0000       0.7857 +- 0.0000         0.9320 +- 0.0000\n",
      "====================================================================================================\n"
     ]
    },
    {
     "data": {
      "image/png": "[encoded data removed]",
      "text/plain": [
       "<Figure size 432x288 with 1 Axes>"
      ]
     },
     "metadata": {
      "needs_background": "light"
     },
     "output_type": "display_data"
    }
   ],
   "source": [
    "# treinando o modelo\n",
    "dict_metricas = treinamento_teste(epocas, k_folds, exibir_matriz_confusao, exibir_metricas)\n",
    "tabelaMetricas('KNN',dict_metricas)"
   ]
  },
  {
   "cell_type": "code",
   "execution_count": null,
   "metadata": {},
   "outputs": [],
   "source": []
  },
  {
   "cell_type": "code",
   "execution_count": null,
   "metadata": {},
   "outputs": [],
   "source": [
    "\n"
   ]
  },
  {
   "cell_type": "code",
   "execution_count": null,
   "metadata": {},
   "outputs": [],
   "source": []
  }
 ],
 "metadata": {
  "kernelspec": {
   "display_name": "Python 3",
   "language": "python",
   "name": "python3"
  },
  "language_info": {
   "codemirror_mode": {
    "name": "ipython",
    "version": 3
   },
   "file_extension": ".py",
   "mimetype": "text/x-python",
   "name": "python",
   "nbconvert_exporter": "python",
   "pygments_lexer": "ipython3",
   "version": "3.7.7"
  }
 },
 "nbformat": 4,
 "nbformat_minor": 4
}
